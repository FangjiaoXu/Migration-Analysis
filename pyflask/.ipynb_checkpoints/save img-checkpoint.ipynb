{
 "cells": [
  {
   "cell_type": "code",
   "execution_count": 1,
   "metadata": {},
   "outputs": [],
   "source": [
    "import numpy as np\n",
    "from glob import glob\n",
    "import os\n",
    "import pandas as pd\n",
    "from base64 import b64encode\n",
    "import folium\n",
    "import branca\n",
    "import json\n",
    "from branca.element import MacroElement\n",
    "from branca.colormap import linear, LinearColormap\n",
    "from jinja2 import Template\n",
    "from folium import plugins\n",
    "import matplotlib.pyplot as plt\n",
    "from geopy.geocoders import Nominatim"
   ]
  },
  {
   "cell_type": "code",
   "execution_count": 2,
   "metadata": {},
   "outputs": [],
   "source": [
    " for f in glob('./static/simplified/??*.csv.gz'):\n",
    "        country_code = os.path.basename(f)[:2]\n",
    "        df = pd.read_csv(f)\n",
    "        for i in range(df.count()[0]):\n",
    "            name=df.loc[i]['citizenship']\n",
    "#             print(name)\n",
    "#             print(df.loc[i]['Male_mau'])\n",
    "#             male=int(df.loc[i]['Male_mau'])\n",
    "#             female=int(df.loc[i]['Female_mau'])\n",
    "#             fig1, ax1 = plt.subplots(figsize=(2.5,1.5))\n",
    "#             ax1.pie([male,female], labels=['male', 'female'], autopct='%1.1f%%', shadow=True, startangle=90)\n",
    "#             plt.savefig('piecharts/gender{}_{}.png'.format(country_code, name), transparent = True)\n",
    "#             plt.close()\n",
    "\n",
    "#             Graduated=df.loc[i]['Graduated_mau']\n",
    "#             High_School=df.loc[i]['High_School_mau']\n",
    "#             No_Degree=df.loc[i]['No_Degree_mau']\n",
    "#             fig1, ax1 = plt.subplots(figsize=(2.5,1.5))\n",
    "#             ax1.pie([Graduated,High_School, No_Degree], labels=['Graduated', 'High_School', 'No_Degree'], autopct='%1.1f%%', shadow=True, startangle=90)\n",
    "#             plt.savefig('edu_pie/education{}_{}.png'.format(country_code, name), transparent = True)\n",
    "#             plt.close()\n",
    "            \n",
    "            other=df.loc[i]['Other_mau']\n",
    "            ios=df.loc[i]['iOS_mau']\n",
    "            android=df.loc[i]['Android_mau']\n",
    "            fig1, ax1 = plt.subplots(figsize=(2.5,1.5))\n",
    "            ax1.pie([other,ios, android], labels=['other', 'ios', 'android'], autopct='%1.1f%%', shadow=True, startangle=90)\n",
    "            plt.savefig('os_pie/os{}_{}.png'.format(country_code, name), transparent = True)\n",
    "            plt.close()"
   ]
  },
  {
   "cell_type": "code",
   "execution_count": null,
   "metadata": {},
   "outputs": [],
   "source": [
    "            Graduated=df.loc[i]['Graduated_mau']\n",
    "            High_School=df.loc[i]['High_School_mau']\n",
    "            No_Degree=df.loc[i]['No_Degree_mau']\n",
    "            fig1, ax1 = plt.subplots(figsize=(2.5,1.5))\n",
    "            ax1.pie([Graduated,High_School, No_Degree], labels=['Graduated', 'High_School', 'No_Degree'], autopct='%1.1f%%', shadow=True, startangle=90)\n",
    "            plt.savefig('edu_pie/education{}_{}.png'.format(country_code, name), transparent = True)\n",
    "            plt.close()"
   ]
  },
  {
   "cell_type": "code",
   "execution_count": null,
   "metadata": {},
   "outputs": [],
   "source": [
    "#  g.createPlots([\"Male_mau\", \"Female_mau\"], ['Men', 'Women'])\n",
    "# g.createPlots([\"iOS_mau\", \"Android_mau\", \"Other_mau\"], [\"iOS\", \"Android\", \"Others\"])\n",
    "# g.createPlots([\"Graduated_mau\", \"High_School_mau\", \"No_Degree_mau\"], [\"Graduated\", \"High School\", \"No degree\"])\n"
   ]
  }
 ],
 "metadata": {
  "kernelspec": {
   "display_name": "Python 3",
   "language": "python",
   "name": "python3"
  },
  "language_info": {
   "codemirror_mode": {
    "name": "ipython",
    "version": 3
   },
   "file_extension": ".py",
   "mimetype": "text/x-python",
   "name": "python",
   "nbconvert_exporter": "python",
   "pygments_lexer": "ipython3",
   "version": "3.7.3"
  }
 },
 "nbformat": 4,
 "nbformat_minor": 2
}
